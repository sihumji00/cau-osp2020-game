{
 "cells": [
  {
   "cell_type": "markdown",
   "metadata": {},
   "source": [
    "# 라운드 #4 제한 규칙 (Constraints in the round #4)"
   ]
  },
  {
   "cell_type": "markdown",
   "metadata": {},
   "source": [
    "**규칙 1.** 팀 객체 생성 시 유닛의 개수는 반드시 **10개**여야 한다. 즉, 10개 미만이거나 10개 초과는 허용하지 않는다.\n",
    "하지만 다른 팀과 대결 중에는 유닛이 죽을 수 있으므로 유닛의 개수가 변할 수 있다."
   ]
  },
  {
   "cell_type": "markdown",
   "metadata": {},
   "source": [
    "**규칙 2.** 모든 유닛의 **$\\text{HP}$**, **$\\text{ATT}$**, **$\\text{ARM}$**은 다음 수식의 제한을 받는다.\n",
    "\n",
    "$$\\sum_{i=0}^{9} {(x_{i}.\\text{HP} + x_{i}.\\text{ATT} + x_{i}.\\text{ARM} + x_{i}.\\text{EVS})} \\leq 1000.$$\n",
    "\n",
    "위 $x_{i}$는 팀 내에서 인덱스 $i$에 위치하는 유닛을 의미한다.\n",
    "이 제한 수식을 고려하여 각 유닛들의 $\\text{HP}$, $\\text{ATT}$, $\\text{ARM}$, $\\text{EVS}$를 적절히 분배할 필요가 있다."
   ]
  },
  {
   "cell_type": "markdown",
   "metadata": {},
   "source": [
    "**규칙 3.** 한 유닛의 **$\\text{HP}$**의 최소값은 **5**이고, 최대값은 **100**이다."
   ]
  },
  {
   "cell_type": "markdown",
   "metadata": {},
   "source": [
    "**규칙 4.** 한 유닛의 **$\\text{ATT}$**의 최소값은 **5**이고, 최대값은 **40**이다."
   ]
  },
  {
   "cell_type": "markdown",
   "metadata": {},
   "source": [
    "**규칙 5.** 한 유닛의 **$\\text{ARM}$**의 최소값은 **0**이고, 최대값은 **20**이다."
   ]
  },
  {
   "cell_type": "markdown",
   "metadata": {},
   "source": [
    "**규칙 6.** 한 유닛의 **$\\text{EVS}$**의 최소값은 **0**이고, 최대값은 **10**이다."
   ]
  },
  {
   "cell_type": "markdown",
   "metadata": {},
   "source": [
    "**규칙 7.** 각 유닛 $x_{i}$의 $\\text{ATT}$, $\\text{ARM}$, $\\text{EVS}$ 및 $\\text{HP}$는 다음 수식의 제한을 받는다.\n",
    "\n",
    "$$ 2 \\cdot \\text{ATT} + 3 \\cdot \\text{ARM} + 4 \\cdot \\text{EVS} \\leq \\text{HP}.$$\n",
    "\n",
    "예를 들어, 한 유닛의 $\\text{ATT}$, $\\text{ARM}$, $\\text{EVS}$ 및 $\\text{HP}$가 각각 10, 10, 7, 80 이면 아래와 같이 이 규칙을 만족한다.\n",
    "\n",
    "$$ 2 \\cdot 10 + 3 \\cdot 10 + 4 \\cdot 7 = 78 \\leq 80.$$\n",
    "\n",
    "그러나, 한 유닛의 $\\text{ATT}$, $\\text{ARM}$, $\\text{EVS}$ 및 $\\text{HP}$가 각각 10, 20, 5, 80 이면 아래와 같이 이 규칙을 어기게 된다.\n",
    "\n",
    "$$ 2 \\cdot 10 + 3 \\cdot 20 + 4 \\cdot 5 = 100 \\gt 80.$$"
   ]
  },
  {
   "cell_type": "markdown",
   "metadata": {},
   "source": [
    "**규칙 8.** `Team.arrange()` 함수의 실행시간은 **0.05초**를 초과할 수 없다."
   ]
  }
 ],
 "metadata": {
  "kernelspec": {
   "display_name": "Python 3",
   "language": "python",
   "name": "python3"
  },
  "language_info": {
   "codemirror_mode": {
    "name": "ipython",
    "version": 3
   },
   "file_extension": ".py",
   "mimetype": "text/x-python",
   "name": "python",
   "nbconvert_exporter": "python",
   "pygments_lexer": "ipython3",
   "version": "3.8.5"
  }
 },
 "nbformat": 4,
 "nbformat_minor": 4
}
